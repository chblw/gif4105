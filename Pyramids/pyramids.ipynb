{
 "cells": [
  {
   "cell_type": "code",
   "execution_count": null,
   "metadata": {},
   "outputs": [],
   "source": [
    "# settings for display\n",
    "from IPython.core.display import display, HTML\n",
    "display(HTML(\"<style>.container { width:100% !important; }</style>\"))\n",
    "\n",
    "# turn off matplotlib figure axes, else we need to call axes('off') everytime\n",
    "import matplotlib as mpl\n",
    "import matplotlib.pyplot as plt\n",
    "plt.set_cmap('gray') \n",
    "mpl.rc('axes.spines',top=False,bottom=False,left=False,right=False)\n",
    "mpl.rc(('xtick','ytick'),color=(1,1,1,0))\n",
    "mpl.rc('font', size=15)\n",
    "\n",
    "import warnings\n",
    "warnings.filterwarnings(\"ignore\")\n",
    "\n",
    "import os\n",
    "os.mkdir('out') if not os.path.exists('out') else None\n",
    "\n",
    "# import necessarry libs\n",
    "from imageio import imread\n",
    "from imageio import imwrite as imsave\n",
    "imwrite = lambda im, fname: imsave(fname, np.maximum(0, np.minimum(255, (im*255))).astype('uint8'))\n",
    "import numpy as np\n",
    "from scipy.ndimage.filters import correlate, convolve\n",
    "from scipy.ndimage import gaussian_filter\n",
    "\n",
    "from skimage.color import rgb2gray\n",
    "from skimage.transform import resize, rotate\n",
    "\n",
    "# define gaussian filter\n",
    "def f_gauss(size, sigma):\n",
    "    # gaussian filter\n",
    "    x, y = np.mgrid[-size[0]//2 + 1:size[0]//2 + 1, -size[1]//2 + 1:size[1]//2 + 1]\n",
    "    g = np.exp(-((x**2 + y**2)/(2.0*sigma**2)))\n",
    "    return g/g.sum()"
   ]
  },
  {
   "cell_type": "code",
   "execution_count": null,
   "metadata": {},
   "outputs": [],
   "source": [
    "i1 = rgb2gray(imread('image52.png')/255.0)\n",
    "i2 = rgb2gray(imread('image53.png')/255.0)"
   ]
  },
  {
   "cell_type": "code",
   "execution_count": null,
   "metadata": {},
   "outputs": [],
   "source": [
    "hg = f_gauss([7, 7], 1)\n",
    "\n",
    "origS = i1.shape\n",
    "\n",
    "# masque\n",
    "m = np.zeros(origS)\n",
    "m[:, 0:128] = 1\n",
    "\n",
    "resizeFcn = lambda im: resize(im, origS, order=0)  # order=0 --> Nearest-neighbor"
   ]
  },
  {
   "cell_type": "code",
   "execution_count": null,
   "metadata": {},
   "outputs": [],
   "source": [
    "# combinaison\n",
    "for i in range(4):\n",
    "    i1f = correlate(i1, hg, mode='reflect');\n",
    "    i2f = correlate(i2, hg, mode='reflect');\n",
    "    mf = correlate(m, hg, mode='reflect');\n",
    "\n",
    "    c = (i1-i1f) * mf + (i2-i2f) * (1-mf)\n",
    "\n",
    "    imwrite(resizeFcn(c+.5), 'out/stage%02d.jpg'%i)\n",
    "    imwrite(resizeFcn(i1-i1f+.5), 'out/left%02d.jpg'%i)\n",
    "    imwrite(resizeFcn(i2-i2f+.5), 'out/right%02d.jpg'%i)\n",
    "    imwrite(resizeFcn(mf), 'out/mask%02d.jpg'%i)\n",
    "\n",
    "    imwrite(resizeFcn(i1), 'out/leftF%02d.jpg'%i)\n",
    "    imwrite(resizeFcn(i2), 'out/rightF%02d.jpg'%i)\n",
    "\n",
    "    # downsample\n",
    "    # i1 = i1 - i1f\n",
    "    # i2 = i2 - i2f\n",
    "    i1 = i1f[0::2, 0::2]\n",
    "    i2 = i2f[0::2, 0::2]\n",
    "    m = mf[0::2, 0::2]"
   ]
  },
  {
   "cell_type": "code",
   "execution_count": null,
   "metadata": {},
   "outputs": [],
   "source": [
    "i = 4  # i + 1\n",
    "imStageNext = i1f * mf + i2f * (1 - mf)\n",
    "imwrite(resizeFcn(imStageNext), 'out/stage%02d.jpg'%i)\n",
    "imwrite(resizeFcn(i1f), 'out/left%02d.jpg'%i)\n",
    "imwrite(resizeFcn(i2f), 'out/right%02d.jpg'%i)\n",
    "imwrite(resizeFcn(mf), 'out/mask%02d.jpg'%i)"
   ]
  },
  {
   "cell_type": "code",
   "execution_count": null,
   "metadata": {},
   "outputs": [],
   "source": [
    "# we can run this cell once, else re-compute the imStageNext in the above cell\n",
    "for i in reversed(range(4)):\n",
    "    imStageCur = imread('out/stage%02d.jpg'%i)/255.0-.5\n",
    "    imStageCur = resize(imStageCur, np.asarray(imStageNext.shape)*2, order=0)\n",
    "    # imStageCur[1::2,1::2] = 0\n",
    "    \n",
    "    # upsample\n",
    "    imStageNext = resize(imStageNext, imStageCur.shape, order=0)\n",
    "    # imStageNext[1::2,1::2] = 0\n",
    "    imStageNext = correlate(imStageNext, hg, mode='reflect')\n",
    "    \n",
    "    imStageNext = imStageNext + imStageCur\n",
    "    imwrite(resizeFcn(imStageNext), 'out/recon%02d.jpg'%i)"
   ]
  },
  {
   "cell_type": "code",
   "execution_count": null,
   "metadata": {},
   "outputs": [],
   "source": []
  }
 ],
 "metadata": {
  "kernelspec": {
   "display_name": "Python 3",
   "language": "python",
   "name": "python3"
  },
  "language_info": {
   "codemirror_mode": {
    "name": "ipython",
    "version": 3
   },
   "file_extension": ".py",
   "mimetype": "text/x-python",
   "name": "python",
   "nbconvert_exporter": "python",
   "pygments_lexer": "ipython3",
   "version": "3.5.2"
  }
 },
 "nbformat": 4,
 "nbformat_minor": 2
}
