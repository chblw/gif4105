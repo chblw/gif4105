{
 "cells": [
  {
   "cell_type": "markdown",
   "metadata": {},
   "source": [
    "# Détection d'arêtes"
   ]
  },
  {
   "cell_type": "code",
   "execution_count": null,
   "metadata": {},
   "outputs": [],
   "source": [
    "# settings for display\n",
    "from IPython.core.display import display, HTML\n",
    "display(HTML(\"<style>.container { width:100% !important; }</style>\"))\n",
    "\n",
    "# turn off matplotlib figure axes, else we need to call axes('off') everytime\n",
    "import matplotlib as mpl\n",
    "import matplotlib.pyplot as plt\n",
    "from mpl_toolkits.mplot3d import Axes3D\n",
    "plt.set_cmap('gray') \n",
    "# mpl.rc('axes.spines',top=False,bottom=False,left=False,right=False)\n",
    "# mpl.rc(('xtick','ytick'),color=(1,1,1,0))\n",
    "mpl.rc('font', size=20)\n",
    "\n",
    "import warnings\n",
    "warnings.filterwarnings(\"ignore\")\n",
    "\n",
    "# import necessarry libs\n",
    "from imageio import imread\n",
    "import numpy as np\n",
    "from scipy.signal import convolve2d as conv2\n",
    "from skimage.color import rgb2gray\n",
    "from skimage.transform import resize\n",
    "from scipy.fftpack import fft2, fftshift, ifft2\n",
    "\n",
    "# define gaussian filter\n",
    "def f_gauss(size, sigma):\n",
    "    # gaussian filter\n",
    "    x, y = np.mgrid[-size[0]//2 + 1:size[0]//2 + 1, -size[1]//2 + 1:size[1]//2 + 1]\n",
    "    g = np.exp(-((x**2 + y**2)/(2.0*sigma**2)))\n",
    "    return g/g.sum()\n",
    "\n",
    "# define average filter\n",
    "def f_average(size):\n",
    "    k = np.ones(size)\n",
    "    return k/k.sum()\n",
    "\n",
    "def f_log_kernel(size, std):\n",
    "    x, y = np.meshgrid(np.linspace(-size, size, 2*size+1), np.linspace(-size, size, 2*size+1))\n",
    "    arg = -(x**2 + y**2) / (2*std**2)\n",
    "    h = np.exp(arg)\n",
    "    h[h < 1e-10 * h.max()] = 0\n",
    "    h = h/h.sum() if h.sum() != 0 else h\n",
    "    h1 = h*(x**2 + y**2 - 2*std**2) / (std**4)\n",
    "    return h1 - h1.mean()"
   ]
  },
  {
   "cell_type": "code",
   "execution_count": null,
   "metadata": {},
   "outputs": [],
   "source": [
    "im = rgb2gray(imread('5. Filtrage spatial/img.jpg')/255.0)"
   ]
  },
  {
   "cell_type": "code",
   "execution_count": null,
   "metadata": {},
   "outputs": [],
   "source": [
    "# filtre gaussien\n",
    "g = f_gauss([15,15], 2);\n",
    "\n",
    "# plot the images and filtrée\n",
    "%matplotlib notebook\n",
    "fig = plt.figure(figsize=(10,5), num='Filtre gaussien')\n",
    "\n",
    "ax1 = fig.add_subplot(1, 2, 1)\n",
    "ax1.imshow(g); ax1.axis('off'); ax1.set_title('Image gaussien 2D')\n",
    "ax2 = fig.add_subplot(1, 2, 2, projection='3d')\n",
    "X = np.linspace(-1, 1, 15)\n",
    "Y = np.linspace(-1, 1, 15)\n",
    "X, Y = np.meshgrid(X, Y)\n",
    "fmap=ax2.plot_surface(X,Y,g); ax2.set_title('Image gaussien 3D');\n",
    "plt.tight_layout()"
   ]
  },
  {
   "cell_type": "code",
   "execution_count": null,
   "metadata": {},
   "outputs": [],
   "source": [
    "# image filtrée\n",
    "imG = conv2(im, g, mode='same');\n",
    "\n",
    "# dérivée de l'image\n",
    "imD = conv2(im, np.asarray([-1, 1])[:,np.newaxis],'same');\n",
    "# dérivée de l'image floue\n",
    "imDG = conv2(imG, np.asarray([-1, 1])[:,np.newaxis], 'same');\n",
    "\n",
    "# plot\n",
    "fig = plt.figure(figsize=(10,5), num='Filtre')\n",
    "\n",
    "ax1 = fig.add_subplot(1, 2, 1)\n",
    "ax1.imshow(np.log(np.abs(imD))); ax1.axis('off'); ax1.set_title('Dérivée de l''image')\n",
    "ax2 = fig.add_subplot(1, 2, 2)\n",
    "ax2.imshow(np.log(np.abs(imDG))); ax2.axis('off'); ax2.set_title('Dérivée de l''image floue');\n",
    "plt.tight_layout()"
   ]
  },
  {
   "cell_type": "code",
   "execution_count": null,
   "metadata": {},
   "outputs": [],
   "source": [
    "# dérivée de gaussienne\n",
    "dg = conv2(g,np.asarray([-1, 1])[:,np.newaxis],'same');\n",
    "\n",
    "# Laplacien d'une gaussienne\n",
    "lg = f_log_kernel(15, 2);\n",
    "\n",
    "imDG = conv2(im,dg,'same');\n",
    "imLOG = conv2(im,lg,'same');\n",
    "\n",
    "# plot\n",
    "fig = plt.figure(figsize=(10,5), num='Gaussienne & LOG')\n",
    "# dérivée (en X)\n",
    "ax1 = fig.add_subplot(1, 2, 1)\n",
    "ax1.imshow(imDG); ax1.axis('off'); ax1.set_title('Dérivée Gaussienne')\n",
    "# LOG\n",
    "ax2 = fig.add_subplot(1, 2, 2, sharex = ax1, sharey = ax1)\n",
    "ax2.imshow(imLOG); ax2.axis('off'); ax2.set_title('LOG');\n",
    "plt.tight_layout()"
   ]
  }
 ],
 "metadata": {
  "kernelspec": {
   "display_name": "Python 3",
   "language": "python",
   "name": "python3"
  },
  "language_info": {
   "codemirror_mode": {
    "name": "ipython",
    "version": 3
   },
   "file_extension": ".py",
   "mimetype": "text/x-python",
   "name": "python",
   "nbconvert_exporter": "python",
   "pygments_lexer": "ipython3",
   "version": "3.5.2"
  }
 },
 "nbformat": 4,
 "nbformat_minor": 2
}
