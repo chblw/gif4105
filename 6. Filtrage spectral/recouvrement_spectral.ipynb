{
 "cells": [
  {
   "cell_type": "code",
   "execution_count": null,
   "metadata": {},
   "outputs": [],
   "source": [
    "# settings for display\n",
    "from IPython.core.display import display, HTML\n",
    "display(HTML(\"<style>.container { width:100% !important; }</style>\"))\n",
    "\n",
    "# turn off matplotlib figure axes, else we need to call axes('off') everytime\n",
    "import matplotlib as mpl\n",
    "import matplotlib.pyplot as plt\n",
    "plt.set_cmap('gray') \n",
    "mpl.rc('axes.spines',top=False,bottom=False,left=False,right=False)\n",
    "mpl.rc(('xtick','ytick'),color=(1,1,1,0))\n",
    "mpl.rc('font', size=14)\n",
    "\n",
    "import warnings\n",
    "warnings.filterwarnings(\"ignore\")\n",
    "\n",
    "# import necessarry libs\n",
    "from imageio import imread\n",
    "import numpy as np\n",
    "from scipy.signal import convolve2d as conv2\n",
    "from skimage.color import rgb2gray\n",
    "from skimage.transform import resize, rotate\n",
    "from scipy.fftpack import fft2, fftshift, ifft2\n",
    "from scipy.ndimage.filters import correlate, convolve\n",
    "\n",
    "# define gaussian filter\n",
    "def f_gauss(size, sigma):\n",
    "    # gaussian filter\n",
    "    x, y = np.mgrid[-size[0]//2 + 1:size[0]//2 + 1, -size[1]//2 + 1:size[1]//2 + 1]\n",
    "    g = np.exp(-((x**2 + y**2)/(2.0*sigma**2)))\n",
    "    return g/g.sum()"
   ]
  },
  {
   "cell_type": "code",
   "execution_count": null,
   "metadata": {},
   "outputs": [],
   "source": [
    "# Démonstration du redimensionnement d'images\n",
    "im = imread('zebre.jpg')\n",
    "[r,c] = im.shape"
   ]
  },
  {
   "cell_type": "code",
   "execution_count": null,
   "metadata": {},
   "outputs": [],
   "source": [
    "# Re-dimensionnement par échantillonnage\n",
    "imEch = im[0::4, 0::4]\n",
    "\n",
    "# pour visualisation, remettons-la à sa taille initiale\n",
    "imEch = resize(imEch, [r, c], anti_aliasing=False);\n",
    "\n",
    "%matplotlib notebook\n",
    "fig, ax = plt.subplots(1,2, figsize=(10,5), num='floumouvement', sharex=True, sharey=True)\n",
    "\n",
    "ax[0].imshow(im); ax[0].set_title('Image originale')\n",
    "ax[1].imshow(imEch); ax[1].set_title('Échantillonnage');"
   ]
  },
  {
   "cell_type": "code",
   "execution_count": null,
   "metadata": {},
   "outputs": [],
   "source": [
    "# Re-dimensionnement par filtrage et échantillonnage\n",
    "h = f_gauss([7, 7], 2);\n",
    "imFilt = correlate(im, h, mode='mirror');\n",
    "imFilt = imFilt[0::4, 0::4];\n",
    "\n",
    "# pour visualisation, remettons-la à sa taille initiale\n",
    "imFilt = resize(imFilt, [r, c], anti_aliasing=False);\n",
    "\n",
    "fig, ax = plt.subplots(1, 3, figsize=(15,5), num='Filtrage et échantillonnage', sharex=True, sharey=True)\n",
    "\n",
    "ax[0].imshow(im); ax[0].set_title('Image originale')\n",
    "ax[1].imshow(imEch); ax[1].set_title('Échantillonnage seulement');\n",
    "ax[2].imshow(imFilt); ax[2].set_title('Filtrage et échantillonnage');"
   ]
  }
 ],
 "metadata": {
  "kernelspec": {
   "display_name": "Python 3",
   "language": "python",
   "name": "python3"
  },
  "language_info": {
   "codemirror_mode": {
    "name": "ipython",
    "version": 3
   },
   "file_extension": ".py",
   "mimetype": "text/x-python",
   "name": "python",
   "nbconvert_exporter": "python",
   "pygments_lexer": "ipython3",
   "version": "3.5.0"
  }
 },
 "nbformat": 4,
 "nbformat_minor": 2
}
