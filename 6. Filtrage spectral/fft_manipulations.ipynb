{
 "cells": [
  {
   "cell_type": "code",
   "execution_count": null,
   "metadata": {},
   "outputs": [],
   "source": [
    "# settings for display\n",
    "from IPython.core.display import display, HTML\n",
    "display(HTML(\"<style>.container { width:100% !important; }</style>\"))\n",
    "\n",
    "# turn off matplotlib figure axes, else we need to call axes('off') everytime\n",
    "import matplotlib as mpl\n",
    "import matplotlib.pyplot as plt\n",
    "plt.set_cmap('gray') \n",
    "# mpl.rc('axes.spines',top=False,bottom=False,left=False,right=False)\n",
    "# mpl.rc(('xtick','ytick'),color=(1,1,1,0))\n",
    "mpl.rc('font', size=20)\n",
    "\n",
    "import warnings\n",
    "warnings.filterwarnings(\"ignore\")\n",
    "\n",
    "# import necessarry libs\n",
    "from imageio import imread\n",
    "import numpy as np\n",
    "from scipy.signal import convolve2d as conv2\n",
    "from skimage.color import rgb2gray\n",
    "from skimage.transform import resize\n",
    "from scipy.fftpack import fft2, fftshift, ifft2, ifftshift\n",
    "from roi import new_ROI"
   ]
  },
  {
   "cell_type": "code",
   "execution_count": null,
   "metadata": {},
   "outputs": [],
   "source": [
    "# Lire l'image    \n",
    "im = imread('img2.jpg')/255.0;\n",
    "im = rgb2gray(im);# FFT\n",
    "im_fft = fft2(im); "
   ]
  },
  {
   "cell_type": "code",
   "execution_count": null,
   "metadata": {},
   "outputs": [],
   "source": [
    "%matplotlib notebook\n",
    "fig = plt.figure(figsize=(10,5), num='Image')\n",
    "\n",
    "ax1 = fig.add_subplot(1, 2, 1)\n",
    "ax1.imshow(im); ax1.axis('off'); ax1.set_title('image')\n",
    "\n",
    "ax2 = fig.add_subplot(1, 2, 2, sharex = ax1, sharey = ax1)\n",
    "fmap = ax2.imshow(np.log(np.abs(fftshift(im_fft))));\n",
    "ax2.set_title('im FFT'); ax2.axis('off')\n",
    "fig.colorbar(fmap, ax=ax2,fraction=0.046, pad=0.04)\n",
    "plt.tight_layout()"
   ]
  },
  {
   "cell_type": "code",
   "execution_count": null,
   "metadata": {
    "scrolled": false
   },
   "outputs": [],
   "source": [
    "# Re-construction\n",
    "imRec = ifft2(im_fft).real;\n",
    "fig = plt.figure(figsize=(15,5), num='Reconstruite')\n",
    "\n",
    "ax1 = fig.add_subplot(1, 3, 1)\n",
    "fmap = ax1.imshow(im); ax1.axis('off'); ax1.set_title('Image originale')\n",
    "\n",
    "ax2 = fig.add_subplot(1, 3, 2, sharex = ax1, sharey = ax1)\n",
    "fmap = ax2.imshow(imRec); ax2.axis('off'); ax2.set_title('Image reconstruite')\n",
    "\n",
    "ax3 = fig.add_subplot(1, 3, 3, sharex = ax1, sharey = ax1)\n",
    "fmap = ax3.imshow(np.abs(im-imRec)*100); ax3.axis('off'); ax3.set_title('Erreur (x100)') \n",
    "fig.colorbar(fmap, ax=ax3,fraction=0.046, pad=0.04)\n",
    "plt.tight_layout()"
   ]
  },
  {
   "cell_type": "code",
   "execution_count": null,
   "metadata": {},
   "outputs": [],
   "source": [
    "# Masquons une partie des fréquences, et re-construisons...\n",
    "im_fft_shift = fftshift(im_fft);\n",
    "plt.figure(figsize=(10,5), num='Draw ROI')\n",
    "# log(1+x) to avoid negative inf, this is a bit different visualization than the matlab code\n",
    "im_axis = plt.imshow(np.log(1+np.abs(im_fft_shift)));plt.axis('off')\n",
    "roi = new_ROI(im_axis, shape='polygon')"
   ]
  },
  {
   "cell_type": "code",
   "execution_count": null,
   "metadata": {},
   "outputs": [],
   "source": [
    "masque = roi.get_mask()\n",
    "assert np.any(masque[:]) == True, 'roi is empty'"
   ]
  },
  {
   "cell_type": "code",
   "execution_count": null,
   "metadata": {},
   "outputs": [],
   "source": [
    "# masquons les fréquences correspondantes\n",
    "im_fft_shift[masque] = 0\n",
    "imRecMasquee = np.abs(ifft2(ifftshift(im_fft_shift)).real);\n",
    "\n",
    "fig, ax = plt.subplots(1,3, figsize=(15,5), sharex=True, sharey=True,num='reconstruite')\n",
    "\n",
    "ax[0].imshow(im); ax[0].axis('off'); ax[0].set_title('Image originale')\n",
    "ax[1].imshow(imRecMasquee); ax[1].axis('off'); ax[1].set_title('Image reconstruite');\n",
    "# log(1+x) to avoid negative inf\n",
    "im_fft_shift_log = np.log(1+np.abs(im_fft_shift))\n",
    "fmap = ax[2].imshow(im_fft_shift_log); ax[2].set_title('fft_shift'); ax[2].axis('off');\n",
    "fig.colorbar(fmap, ax=ax[2],fraction=0.046, pad=0.04);"
   ]
  },
  {
   "cell_type": "code",
   "execution_count": null,
   "metadata": {},
   "outputs": [],
   "source": []
  }
 ],
 "metadata": {
  "kernelspec": {
   "display_name": "Python 3",
   "language": "python",
   "name": "python3"
  },
  "language_info": {
   "codemirror_mode": {
    "name": "ipython",
    "version": 3
   },
   "file_extension": ".py",
   "mimetype": "text/x-python",
   "name": "python",
   "nbconvert_exporter": "python",
   "pygments_lexer": "ipython3",
   "version": "3.5.2"
  }
 },
 "nbformat": 4,
 "nbformat_minor": 2
}
