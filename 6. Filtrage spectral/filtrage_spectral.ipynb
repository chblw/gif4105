{
 "cells": [
  {
   "cell_type": "markdown",
   "metadata": {},
   "source": [
    "# Démonstration - filtrage gaussien vs. filtre \"en boîte\""
   ]
  },
  {
   "cell_type": "code",
   "execution_count": null,
   "metadata": {},
   "outputs": [],
   "source": [
    "# settings for display\n",
    "from IPython.core.display import display, HTML\n",
    "display(HTML(\"<style>.container { width:100% !important; }</style>\"))\n",
    "\n",
    "# turn off matplotlib figure axes, else we need to call axes('off') everytime\n",
    "import matplotlib as mpl\n",
    "import matplotlib.pyplot as plt\n",
    "plt.set_cmap('gray') \n",
    "# mpl.rc('axes.spines',top=False,bottom=False,left=False,right=False)\n",
    "# mpl.rc(('xtick','ytick'),color=(1,1,1,0))\n",
    "mpl.rc('font', size=20)\n",
    "\n",
    "import warnings\n",
    "warnings.filterwarnings(\"ignore\")\n",
    "\n",
    "# import necessarry libs\n",
    "from imageio import imread\n",
    "import numpy as np\n",
    "from scipy.signal import convolve2d as conv2\n",
    "from skimage.color import rgb2gray\n",
    "from skimage.transform import resize\n",
    "from scipy.fftpack import fft2, fftshift, ifft2\n",
    "\n",
    "# define gaussian filter\n",
    "def f_gauss(size, sigma):\n",
    "    # gaussian filter\n",
    "    x, y = np.mgrid[-size[0]//2 + 1:size[0]//2 + 1, -size[1]//2 + 1:size[1]//2 + 1]\n",
    "    g = np.exp(-((x**2 + y**2)/(2.0*sigma**2)))\n",
    "    return g/g.sum()\n",
    "\n",
    "# define average filter\n",
    "def f_average(size):\n",
    "    k = np.ones(size)\n",
    "    return k/k.sum()"
   ]
  },
  {
   "cell_type": "code",
   "execution_count": null,
   "metadata": {},
   "outputs": [],
   "source": [
    "# Lire l'image    \n",
    "im = imread('img2.jpg').astype('float')/255.0;\n",
    "im = rgb2gray(im)\n",
    "im = resize(im, [400, 600]);"
   ]
  },
  {
   "cell_type": "code",
   "execution_count": null,
   "metadata": {},
   "outputs": [],
   "source": [
    "fftsize = 512;\n",
    "# FFT de l'image\n",
    "im_fft = fft2(im, [fftsize, fftsize])"
   ]
  },
  {
   "cell_type": "code",
   "execution_count": null,
   "metadata": {},
   "outputs": [],
   "source": [
    "hs = 30;\n",
    "fil = f_gauss([hs*2+1, hs*2+1], 2);\n",
    "# hs = 5;\n",
    "# fil = f_average([hs*2+1, hs*2+1]);"
   ]
  },
  {
   "cell_type": "code",
   "execution_count": null,
   "metadata": {},
   "outputs": [],
   "source": [
    "# FFT du filtre (même dimensions que l'image)\n",
    "fil_fft = fft2(fil, [fftsize, fftsize]); "
   ]
  },
  {
   "cell_type": "code",
   "execution_count": null,
   "metadata": {
    "scrolled": true
   },
   "outputs": [],
   "source": [
    "# Affichons le tout\n",
    "# %matplotlib notebook\n",
    "fig = plt.figure(figsize=(10,5), num='image')\n",
    "ax1 = fig.add_subplot(1, 2, 1)\n",
    "ax1.imshow(im); ax1.axis('off'); ax1.set_title('image')\n",
    "ax2 = fig.add_subplot(1, 2, 2)\n",
    "fmap = ax2.imshow(fil); ax2.axis('off'); ax2.set_title('filtre');\n",
    "fig.colorbar(fmap, ax=ax2,fraction=0.046, pad=0.04)\n",
    "plt.tight_layout()"
   ]
  },
  {
   "cell_type": "code",
   "execution_count": null,
   "metadata": {
    "scrolled": true
   },
   "outputs": [],
   "source": [
    "fig = plt.figure(figsize=(10,5), num='FFT image')\n",
    "\n",
    "ax1 = fig.add_subplot(1, 2, 1)\n",
    "fmap = ax1.imshow(np.log(np.abs(fftshift(im_fft)))); \n",
    "ax1.axis('off'); ax1.set_title('FFT image')\n",
    "fig.colorbar(fmap, ax=ax1,fraction=0.046, pad=0.04)\n",
    "\n",
    "ax2 = fig.add_subplot(1, 2, 2)\n",
    "fmap = ax2.imshow(np.log(np.abs(fftshift(fil_fft)))); \n",
    "ax2.axis('off'); ax2.set_title('FFT filtre');\n",
    "fig.colorbar(fmap, ax=ax2,fraction=0.046, pad=0.04)\n",
    "plt.tight_layout()"
   ]
  },
  {
   "cell_type": "markdown",
   "metadata": {},
   "source": [
    "# Filtrons!"
   ]
  },
  {
   "cell_type": "code",
   "execution_count": null,
   "metadata": {},
   "outputs": [],
   "source": [
    "# multiplication dans le domaine frequentiel\n",
    "im_fil_fft = im_fft * fil_fft;\n",
    "\n",
    "# prenons l'inverse\n",
    "im_fil = ifft2(im_fil_fft).real; \n",
    "\n",
    "# enlever le \"padding\"\n",
    "im_fil = im_fil[1+hs:im.shape[0]+hs, :]; "
   ]
  },
  {
   "cell_type": "code",
   "execution_count": null,
   "metadata": {},
   "outputs": [],
   "source": [
    "%matplotlib notebook\n",
    "fig = plt.figure(figsize=(10,5), num='IFFT')\n",
    "\n",
    "ax1 = fig.add_subplot(1, 2, 1)\n",
    "fmap = ax1.imshow(im); \n",
    "ax1.axis('off'); ax1.set_title('Image originale')\n",
    "\n",
    "ax2 = fig.add_subplot(1, 2, 2, sharex = ax1, sharey = ax1)\n",
    "fmap = ax2.imshow(im_fil); \n",
    "ax2.axis('off'); ax2.set_title('Image filtrée');\n",
    "plt.tight_layout()"
   ]
  },
  {
   "cell_type": "code",
   "execution_count": null,
   "metadata": {},
   "outputs": [],
   "source": [
    "fig = plt.figure(figsize=(15,5), num='fftshift')\n",
    "\n",
    "ax1 = fig.add_subplot(1, 3, 1)\n",
    "fmap = ax1.imshow(np.log(np.abs(fftshift(im_fft)))); \n",
    "ax1.axis('off'); ax1.set_title('FFT image')\n",
    "fig.colorbar(fmap, ax=ax1,fraction=0.046, pad=0.04)\n",
    "\n",
    "ax2 = fig.add_subplot(1, 3, 2, sharex = ax1, sharey = ax1)\n",
    "fmap = ax2.imshow(np.log(np.abs(fftshift(fil_fft)))); \n",
    "ax2.axis('off'); ax2.set_title('FFT filtre');\n",
    "fig.colorbar(fmap, ax=ax2,fraction=0.046, pad=0.04)\n",
    "\n",
    "ax3 = fig.add_subplot(1, 3, 3, sharex = ax1, sharey = ax1)\n",
    "fmap = ax3.imshow(np.log(np.abs(fftshift(im_fft*fil_fft)))); \n",
    "ax3.axis('off'); ax3.set_title('FFT image filtre');\n",
    "fig.colorbar(fmap, ax=ax3,fraction=0.046, pad=0.04)\n",
    "plt.tight_layout()"
   ]
  },
  {
   "cell_type": "code",
   "execution_count": null,
   "metadata": {},
   "outputs": [],
   "source": [
    "fig = plt.figure(figsize=(5,5), num='fftshift jet')\n",
    "fmap = plt.imshow(np.log(np.abs(fftshift(im_fil_fft))), cmap='jet'); \n",
    "plt.axis('off'); \n",
    "plt.colorbar(fmap, fraction=0.046, pad=0.04);"
   ]
  },
  {
   "cell_type": "code",
   "execution_count": null,
   "metadata": {},
   "outputs": [],
   "source": []
  }
 ],
 "metadata": {
  "kernelspec": {
   "display_name": "Python 3",
   "language": "python",
   "name": "python3"
  },
  "language_info": {
   "codemirror_mode": {
    "name": "ipython",
    "version": 3
   },
   "file_extension": ".py",
   "mimetype": "text/x-python",
   "name": "python",
   "nbconvert_exporter": "python",
   "pygments_lexer": "ipython3",
   "version": "3.5.2"
  }
 },
 "nbformat": 4,
 "nbformat_minor": 2
}
