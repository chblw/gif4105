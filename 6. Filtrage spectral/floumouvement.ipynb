{
 "cells": [
  {
   "cell_type": "markdown",
   "metadata": {},
   "source": [
    "# Démonstration, filtre de flou de mouvement (\"motion blur\")"
   ]
  },
  {
   "cell_type": "code",
   "execution_count": null,
   "metadata": {},
   "outputs": [],
   "source": [
    "# settings for display\n",
    "from IPython.core.display import display, HTML\n",
    "display(HTML(\"<style>.container { width:100% !important; }</style>\"))\n",
    "\n",
    "# turn off matplotlib figure axes, else we need to call axes('off') everytime\n",
    "import matplotlib as mpl\n",
    "import matplotlib.pyplot as plt\n",
    "plt.set_cmap('gray') \n",
    "# mpl.rc('axes.spines',top=False,bottom=False,left=False,right=False)\n",
    "# mpl.rc(('xtick','ytick'),color=(1,1,1,0))\n",
    "mpl.rc('font', size=20)\n",
    "\n",
    "import warnings\n",
    "warnings.filterwarnings(\"ignore\")\n",
    "\n",
    "# import necessarry libs\n",
    "from imageio import imread\n",
    "import numpy as np\n",
    "from scipy.signal import convolve2d as conv2\n",
    "from skimage.color import rgb2gray\n",
    "from skimage.transform import resize, rotate\n",
    "from scipy.fftpack import fft2, fftshift, ifft2\n",
    "from scipy.ndimage.filters import correlate, convolve"
   ]
  },
  {
   "cell_type": "code",
   "execution_count": null,
   "metadata": {},
   "outputs": [],
   "source": [
    "im = imread('img.jpg')/255.0;\n",
    "\n",
    "theta = 45; \n",
    "length = 20;\n",
    "\n",
    "filtre = np.ones([1, length]);\n",
    "filtre = rotate(filtre, theta, resize=True);\n",
    "filtre = filtre / np.sum(filtre[:]);\n",
    "\n",
    "%matplotlib notebook\n",
    "fig = plt.figure(figsize=(15,5), num='floumouvement')\n",
    "\n",
    "ax1 = fig.add_subplot(1, 3, 1)\n",
    "fmap = ax1.imshow(im); \n",
    "ax1.axis('off'); ax1.set_title('Image originale')\n",
    "\n",
    "ax2 = fig.add_subplot(1, 3, 2, sharex = ax1, sharey = ax1)\n",
    "fmap = ax2.imshow(correlate(im, filtre[:,:,np.newaxis])); \n",
    "ax2.axis('off'); ax2.set_title('Image filtrée');\n",
    "\n",
    "ax3 = fig.add_subplot(1, 3, 3)\n",
    "fmap = ax3.imshow(filtre); \n",
    "ax3.axis('off'); ax3.set_title('Filtre');\n",
    "fig.colorbar(fmap, ax=ax3,fraction=0.046, pad=0.04)\n",
    "plt.tight_layout()"
   ]
  },
  {
   "cell_type": "code",
   "execution_count": null,
   "metadata": {},
   "outputs": [],
   "source": []
  }
 ],
 "metadata": {
  "kernelspec": {
   "display_name": "Python 3",
   "language": "python",
   "name": "python3"
  },
  "language_info": {
   "codemirror_mode": {
    "name": "ipython",
    "version": 3
   },
   "file_extension": ".py",
   "mimetype": "text/x-python",
   "name": "python",
   "nbconvert_exporter": "python",
   "pygments_lexer": "ipython3",
   "version": "3.5.2"
  }
 },
 "nbformat": 4,
 "nbformat_minor": 2
}
