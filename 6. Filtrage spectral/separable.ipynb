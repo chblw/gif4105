{
 "cells": [
  {
   "cell_type": "markdown",
   "metadata": {},
   "source": [
    "# petite demonstration du filtre gaussien (séparable)"
   ]
  },
  {
   "cell_type": "code",
   "execution_count": null,
   "metadata": {},
   "outputs": [],
   "source": [
    "# settings for display\n",
    "from IPython.core.display import display, HTML\n",
    "display(HTML(\"<style>.container { width:100% !important; }</style>\"))\n",
    "\n",
    "# turn off matplotlib figure axes, else we need to call axes('off') everytime\n",
    "import matplotlib as mpl\n",
    "import matplotlib.pyplot as plt\n",
    "plt.set_cmap('gray') \n",
    "mpl.rc('axes.spines',top=False,bottom=False,left=False,right=False)\n",
    "mpl.rc(('xtick','ytick'),color=(1,1,1,0))\n",
    "mpl.rc('font', size=20)\n",
    "\n",
    "# import necessarry libs\n",
    "from imageio import imread\n",
    "import numpy as np\n",
    "from scipy.signal import convolve2d as conv2\n",
    "\n",
    "# define gaussian filter\n",
    "def f_gauss(size, sigma):\n",
    "    # gaussian filter\n",
    "    x, y = np.mgrid[-size[0]//2 + 1:size[0]//2 + 1, -size[1]//2 + 1:size[1]//2 + 1]\n",
    "    g = np.exp(-((x**2 + y**2)/(2.0*sigma**2)))\n",
    "    return g/g.sum()"
   ]
  },
  {
   "cell_type": "code",
   "execution_count": null,
   "metadata": {},
   "outputs": [],
   "source": [
    "im = imread('img.jpg').astype(float)/255;\n",
    "from skimage.color import rgb2gray\n",
    "im = rgb2gray(im);\n",
    "print(im.shape)\n",
    "\n",
    "# pour que la différence de temps soit observable, \n",
    "# il faut des images assez grosses\n",
    "from skimage.transform import resize\n",
    "# im = resize(im, [5000 NaN]);\n",
    "# filtre 2-D\n",
    "f2d = f_gauss([25,25], 4);\n",
    "# filtre 1-D\n",
    "f1dv = f_gauss([1, 25], 4);\n",
    "\n",
    "# filtrage avec le filtre 2D\n",
    "import time\n",
    "tic=time.time(); \n",
    "im2d = conv2(im, f2d, 'same'); \n",
    "print(time.time()-tic)\n",
    "\n",
    "# filtrage avec le filtre 1D, et sa transposée\n",
    "tic=time.time(); \n",
    "im1d = conv2(conv2(im, f1dv, 'same'), f1dv.T, 'same'); \n",
    "print(time.time()-tic);"
   ]
  },
  {
   "cell_type": "code",
   "execution_count": null,
   "metadata": {},
   "outputs": [],
   "source": [
    "# plot\n",
    "%matplotlib notebook\n",
    "fig = plt.figure(figsize=(10,5), num='Gaussian')\n",
    "ax1 = fig.add_subplot(1, 3, 1)\n",
    "ax1.imshow(im2d); ax1.set_title('Filtre 2-D')\n",
    "ax2 = fig.add_subplot(1, 3, 2, sharex = ax1, sharey = ax1)\n",
    "ax2.imshow(im1d); ax2.set_title('2 filtres 1-D');\n",
    "ax3 = fig.add_subplot(1, 3, 3, sharex = ax1, sharey = ax1)\n",
    "fmap = ax3.imshow(np.abs(im1d-im2d)*100, vmin=0, vmax=1); ax3.set_title('100x difference');\n",
    "fig.colorbar(fmap, ax=ax3,fraction=0.046, pad=0.04)\n",
    "plt.tight_layout()"
   ]
  },
  {
   "cell_type": "code",
   "execution_count": null,
   "metadata": {},
   "outputs": [],
   "source": []
  }
 ],
 "metadata": {
  "kernelspec": {
   "display_name": "Python 3",
   "language": "python",
   "name": "python3"
  },
  "language_info": {
   "codemirror_mode": {
    "name": "ipython",
    "version": 3
   },
   "file_extension": ".py",
   "mimetype": "text/x-python",
   "name": "python",
   "nbconvert_exporter": "python",
   "pygments_lexer": "ipython3",
   "version": "3.5.0"
  }
 },
 "nbformat": 4,
 "nbformat_minor": 2
}
