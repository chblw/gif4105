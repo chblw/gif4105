{
 "cells": [
  {
   "cell_type": "code",
   "execution_count": null,
   "metadata": {},
   "outputs": [],
   "source": [
    "# settings for display\n",
    "from IPython.core.display import display, HTML\n",
    "display(HTML(\"<style>.container { width:100% !important; }</style>\"))\n",
    "\n",
    "# turn off matplotlib figure axes, else we need to call axes('off') everytime\n",
    "import matplotlib as mpl\n",
    "import matplotlib.pyplot as plt\n",
    "plt.set_cmap('gray') \n",
    "mpl.rc('axes.spines',top=False,bottom=False,left=False,right=False)\n",
    "mpl.rc(('xtick','ytick'),color=(1,1,1,0))\n",
    "mpl.rc('font', size=20)\n",
    "\n",
    "import warnings\n",
    "warnings.filterwarnings(\"ignore\")\n",
    "\n",
    "# import necessarry libs\n",
    "from imageio import imread\n",
    "import numpy as np\n",
    "from skimage.color import rgb2gray\n",
    "from skimage.transform import resize\n",
    "from roi import new_ROI"
   ]
  },
  {
   "cell_type": "code",
   "execution_count": null,
   "metadata": {},
   "outputs": [],
   "source": [
    "# Lire une image\n",
    "im = imread('montgolfiere.jpg')/255.0;\n",
    "\n",
    "# rapetissons sa taille (c'est long sinon!)\n",
    "im = resize(im, [375, 500]);"
   ]
  },
  {
   "cell_type": "code",
   "execution_count": null,
   "metadata": {},
   "outputs": [],
   "source": [
    "# Demandons un masque\n",
    "%matplotlib notebook\n",
    "im_axis = plt.imshow(im);plt.axis('off')\n",
    "roi = new_ROI(im_axis, shape='polygon')"
   ]
  },
  {
   "cell_type": "code",
   "execution_count": null,
   "metadata": {},
   "outputs": [],
   "source": [
    "m = roi.get_mask()\n",
    "m = np.tile(m[:,:,np.newaxis], [1, 1, 3]);\n",
    "print(m.shape)"
   ]
  },
  {
   "cell_type": "code",
   "execution_count": null,
   "metadata": {},
   "outputs": [],
   "source": [
    "# Calculons les gradients\n",
    "gx = np.diff(im, 1, 1);\n",
    "gy = np.diff(im, 1, 0);\n",
    "print(gx.shape)"
   ]
  },
  {
   "cell_type": "code",
   "execution_count": null,
   "metadata": {},
   "outputs": [],
   "source": [
    "# Masquons les gradients!\n",
    "gx[m[:,0:-1,:]] = 0; # gx[m]*2;\n",
    "gy[m[0:-1,:,:]] = 0; # gy[m]*2;"
   ]
  },
  {
   "cell_type": "code",
   "execution_count": null,
   "metadata": {},
   "outputs": [],
   "source": [
    "# Reconstruisons l'image\n",
    "imRecon = zeros(size(im));\n",
    "for i_c = 1:size(im,3)\n",
    "    imRecon(:,:,i_c) = reconstruction(gx(:,:,i_c), gy(:,:,i_c));\n",
    "end"
   ]
  },
  {
   "cell_type": "code",
   "execution_count": null,
   "metadata": {},
   "outputs": [],
   "source": [
    "# Réglons les problèmes?\n",
    "imMoyenne = np.mean(im[:]);\n",
    "imReconMoyenne = np.mean(imRecon[:]);\n",
    "\n",
    "offset = imMoyenne - imReconMoyenne;\n",
    "\n",
    "imReconFix = imRecon + offset;"
   ]
  },
  {
   "cell_type": "code",
   "execution_count": null,
   "metadata": {},
   "outputs": [],
   "source": [
    "# Affichons les résultats\n",
    "fig, ax = plt.subplots(2, 2, figsize=(10,10), sharex=True, sharey=True,num='reconstruite')\n",
    "ax[0][0].imshow(im); ax[0][0].set_title('Image originale')\n",
    "ax[0][1].imshow(m.astype('float')); ax[0][1].set_title('Masque');\n",
    "ax[1][0].imshow(imRecon); ax[1][0].set_title('Image reconstruite');\n",
    "ax[1][1].imshow(imReconFix+0.2); ax[1][1].set_title('Image reconstruite corrigée');"
   ]
  },
  {
   "cell_type": "code",
   "execution_count": null,
   "metadata": {},
   "outputs": [],
   "source": []
  }
 ],
 "metadata": {
  "kernelspec": {
   "display_name": "Python 3",
   "language": "python",
   "name": "python3"
  },
  "language_info": {
   "codemirror_mode": {
    "name": "ipython",
    "version": 3
   },
   "file_extension": ".py",
   "mimetype": "text/x-python",
   "name": "python",
   "nbconvert_exporter": "python",
   "pygments_lexer": "ipython3",
   "version": "3.5.2"
  }
 },
 "nbformat": 4,
 "nbformat_minor": 2
}
