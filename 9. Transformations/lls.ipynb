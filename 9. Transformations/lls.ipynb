{
 "cells": [
  {
   "cell_type": "code",
   "execution_count": null,
   "metadata": {},
   "outputs": [],
   "source": [
    "# import necessarry libs\n",
    "from math import sin, cos\n",
    "import numpy as np\n",
    "from numpy.linalg import pinv, inv\n",
    "from numpy import matmul\n",
    "import matplotlib.pyplot as plt\n",
    "from scipy.optimize import least_squares"
   ]
  },
  {
   "cell_type": "code",
   "execution_count": null,
   "metadata": {},
   "outputs": [],
   "source": [
    "# paramètres de la droite\n",
    "a = 5; \n",
    "b = 1; "
   ]
  },
  {
   "cell_type": "code",
   "execution_count": null,
   "metadata": {},
   "outputs": [],
   "source": [
    "# échantillons sur l'axe x\n",
    "x = np.linspace(0,1,20);"
   ]
  },
  {
   "cell_type": "code",
   "execution_count": null,
   "metadata": {},
   "outputs": [],
   "source": [
    "# bruit gaussien\n",
    "e = 0\n",
    "# np.random.randn(*x.shape) / 4\n",
    "\n",
    "# variables y\n",
    "y = a*x+b + e;"
   ]
  },
  {
   "cell_type": "code",
   "execution_count": null,
   "metadata": {},
   "outputs": [],
   "source": [
    "plt.plot(x,y, 'o');"
   ]
  },
  {
   "cell_type": "code",
   "execution_count": null,
   "metadata": {},
   "outputs": [],
   "source": [
    "# Rajoutons des \"outliers\"\n",
    "y[9] = 5;\n",
    "y[10] = 5;\n",
    "plt.plot(x,y, 'o');"
   ]
  },
  {
   "cell_type": "code",
   "execution_count": null,
   "metadata": {},
   "outputs": [],
   "source": [
    "# x = x[[0, 4]];\n",
    "# y = y[[0, 4]];"
   ]
  },
  {
   "cell_type": "code",
   "execution_count": null,
   "metadata": {},
   "outputs": [],
   "source": [
    "# forme matricielle\n",
    "A = np.stack([x[:], np.ones(len(x[:]))], 1);\n",
    "b = y[:]"
   ]
  },
  {
   "cell_type": "code",
   "execution_count": null,
   "metadata": {},
   "outputs": [],
   "source": [
    "# solvons le système d'équations linéaire\n",
    "p = matmul(pinv(A), b)\n",
    "\n",
    "# équivalent: inv(A'*A)*A'*b;\n",
    "p = matmul(matmul(inv(matmul(A.T, A)), A.T), b)\n",
    "print(p)"
   ]
  },
  {
   "cell_type": "code",
   "execution_count": null,
   "metadata": {},
   "outputs": [],
   "source": [
    "# pas tout à fait équivalent, mais... \n",
    "'''\n",
    "# np.linalg.lstsq: solves the equation Ax = b by computing a vector x that minimizes the Euclidean 2-norm ||b-Ax||^2\n",
    "p, _residuals, _rank, _singular = np.linalg.lstsq(A,b, rcond=None)\n",
    "'''\n",
    "def fun(px, x, y):\n",
    "    return px[0]*x + px[1] - y\n",
    "p = least_squares(fun, [0,0], args=[x, b], loss='linear').x\n",
    "print(p)"
   ]
  },
  {
   "cell_type": "code",
   "execution_count": null,
   "metadata": {},
   "outputs": [],
   "source": [
    "# affichons la droite estimée\n",
    "plt.plot(x, y, 'o');\n",
    "plt.plot(x, p[0]*x + p[1], '-r');"
   ]
  },
  {
   "cell_type": "code",
   "execution_count": null,
   "metadata": {},
   "outputs": [],
   "source": [
    "# Comment être robustes aux \"outliers\"?\n",
    "def fun(px, x, y):\n",
    "    return px[0]*x + px[1] - y\n",
    "p = least_squares(fun, [0,0], args=[x, b], loss='soft_l1', f_scale=1e-2).x\n",
    "\n",
    "plt.plot(x, y, 'o');\n",
    "plt.plot(x, p[0]*x + p[1], '-m');"
   ]
  },
  {
   "cell_type": "code",
   "execution_count": null,
   "metadata": {},
   "outputs": [],
   "source": []
  }
 ],
 "metadata": {
  "kernelspec": {
   "display_name": "Python 3",
   "language": "python",
   "name": "python3"
  },
  "language_info": {
   "codemirror_mode": {
    "name": "ipython",
    "version": 3
   },
   "file_extension": ".py",
   "mimetype": "text/x-python",
   "name": "python",
   "nbconvert_exporter": "python",
   "pygments_lexer": "ipython3",
   "version": "3.5.2"
  }
 },
 "nbformat": 4,
 "nbformat_minor": 2
}
