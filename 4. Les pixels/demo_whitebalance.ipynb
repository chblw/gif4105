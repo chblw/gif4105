{
 "cells": [
  {
   "cell_type": "markdown",
   "metadata": {},
   "source": [
    "# Démonstration de balance des blancs (white balancing)\n",
    "1. manuelle\n",
    "2. automatique avec grey world\n",
    "3. automatique avec white world"
   ]
  },
  {
   "cell_type": "markdown",
   "metadata": {},
   "source": [
    "## Correction de couleur manuelle -- sélection d'une région grise"
   ]
  },
  {
   "cell_type": "code",
   "execution_count": null,
   "metadata": {},
   "outputs": [],
   "source": [
    "# settings for display, wide screen\n",
    "from IPython.core.display import display, HTML\n",
    "display(HTML(\"<style>.container { width:100% !important; }</style>\"))\n",
    "# import the libs\n",
    "import matplotlib as mpl\n",
    "mpl.rc('axes.spines',top=False,bottom=False,left=False,right=False)\n",
    "mpl.rc(('xtick','ytick'),color=(1,1,1,0))\n",
    "mpl.rc('font', size=20)\n",
    "import matplotlib.pyplot as plt\n",
    "import numpy as np\n",
    "\n",
    "from roi import new_ROI\n",
    "\n",
    "import warnings\n",
    "warnings.filterwarnings(\"ignore\")"
   ]
  },
  {
   "cell_type": "code",
   "execution_count": null,
   "metadata": {},
   "outputs": [],
   "source": [
    "from imageio import imread\n",
    "img = imread('wb-reelle.jpg')/255.0\n",
    "from skimage.transform import resize\n",
    "img = resize(img, [600, 900], mode='reflect', anti_aliasing=True)"
   ]
  },
  {
   "cell_type": "code",
   "execution_count": null,
   "metadata": {
    "scrolled": false
   },
   "outputs": [],
   "source": [
    "# demandons à l'utilisateur d'identifier une région correspondant à un objet neutre\n",
    "%matplotlib notebook\n",
    "fig = plt.figure(figsize=(10,5), num='Draw ROI')\n",
    "im_axis = plt.imshow(img);\n",
    "plt.tight_layout()\n",
    "roi = new_ROI(im_axis, shape='polygon')"
   ]
  },
  {
   "cell_type": "code",
   "execution_count": null,
   "metadata": {},
   "outputs": [],
   "source": [
    "coordinates = roi.get_indices()\n",
    "assert coordinates is not None, 'roi is empty'"
   ]
  },
  {
   "cell_type": "code",
   "execution_count": null,
   "metadata": {},
   "outputs": [],
   "source": [
    "# coordiantes to indices\n",
    "indices = np.ravel_multi_index(coordinates, dims=img.shape[0:2])"
   ]
  },
  {
   "cell_type": "code",
   "execution_count": null,
   "metadata": {},
   "outputs": [],
   "source": [
    "# truc de pro: vectoriser l'image en un vecteur de Nx3 (N = # de pixels)\n",
    "imgVec = img.reshape([-1, 3])\n",
    "offset = np.mean(imgVec[indices, :], axis=None) - np.mean(imgVec[indices, :], axis=0)"
   ]
  },
  {
   "cell_type": "code",
   "execution_count": null,
   "metadata": {},
   "outputs": [],
   "source": [
    "# appliquons cet «offset» à l'image. \n",
    "imgVecWbManu = imgVec + offset.reshape((1,3))"
   ]
  },
  {
   "cell_type": "code",
   "execution_count": null,
   "metadata": {},
   "outputs": [],
   "source": [
    "# validons que la moyenne de l'image _sous le masque_ est effectivement neutre\n",
    "newMean = np.mean(imgVecWbManu[indices, :], 0)\n",
    "assert np.all(np.abs(newMean - np.mean(newMean)) < 1e-10), 'error de moyenne'\n",
    "print('Moyenne sous le masque: ')\n",
    "print(newMean)"
   ]
  },
  {
   "cell_type": "code",
   "execution_count": null,
   "metadata": {},
   "outputs": [],
   "source": [
    "# re-convertissons en format \"image\"\n",
    "imgWbManu = img + offset.reshape((1,1,3))\n",
    "imgWbManu = np.maximum(0, np.minimum(1, imgWbManu))\n",
    "fig = plt.figure(figsize=(10,5), num='White balanced')\n",
    "plt.imshow(imgWbManu);"
   ]
  },
  {
   "cell_type": "markdown",
   "metadata": {},
   "source": [
    "## Correction de couleur automatique -- \"grey world\""
   ]
  },
  {
   "cell_type": "code",
   "execution_count": null,
   "metadata": {},
   "outputs": [],
   "source": [
    "img = imread('wb-reelle.jpg').astype('float')/255.0\n",
    "img = resize(img, [600, 900], mode='reflect')"
   ]
  },
  {
   "cell_type": "code",
   "execution_count": null,
   "metadata": {},
   "outputs": [],
   "source": [
    "# nous faisons l'hypothèse que la moyenne des pixels devrait être grise (R=G=B)\n",
    "# calculons tout d'abord la moyenne de l'image\n",
    "# calculer la moyenne est alors super simple!\n",
    "moyenne = np.mean(img, (0,1))\n",
    "# nous voulons que R=G=B. donc trouvons un «offset» qui mettra\n",
    "# tous les canaux au meme niveau, disons G\n",
    "offset = np.mean(moyenne) - moyenne"
   ]
  },
  {
   "cell_type": "code",
   "execution_count": null,
   "metadata": {},
   "outputs": [],
   "source": [
    "# appliquons cet «offset» à l'image. re-convertissons en format \"image\"\n",
    "imgWbGray = img + offset.reshape((1,1,3))\n",
    "# imgWbGray = np.maximum(0, np.minimum(1, imgWbGray))"
   ]
  },
  {
   "cell_type": "code",
   "execution_count": null,
   "metadata": {},
   "outputs": [],
   "source": [
    "# validons que la moyenne de l'image est effectivement neutre\n",
    "newMean = np.mean(imgWbGray, (0,1))\n",
    "assert np.all(np.abs(newMean - np.mean(newMean)) < 1e-10), 'error de moyenne'\n",
    "print('Moyenne de l''image: ')\n",
    "print(newMean)"
   ]
  },
  {
   "cell_type": "markdown",
   "metadata": {},
   "source": [
    "## Correction de couleur automatique -- \"white world\""
   ]
  },
  {
   "cell_type": "code",
   "execution_count": null,
   "metadata": {},
   "outputs": [],
   "source": [
    "img = imread('wb-reelle.jpg').astype('float')/255\n",
    "img = resize(img, [600, 900], mode='reflect', anti_aliasing=True)"
   ]
  },
  {
   "cell_type": "code",
   "execution_count": null,
   "metadata": {},
   "outputs": [],
   "source": [
    "# nous faisons l'hypothèse que le pixel le plus brilliant devrait être\n",
    "# blanc (R=G=B encore, mais valeur plus élevée donc proche de blanc)\n",
    "N = 10\n",
    "# trouvons les N pixels les plus brilliants (sans toutefois être saturé!)\n",
    "# faisons l'hypothèse que tout ce qui est au dessus de ce seuil est saturé\n",
    "seuilSat = 250/255; \n",
    "diff = seuilSat - img;\n",
    "diff[diff<=0] = 1;\n",
    "# chaque canal stocke la distance entre le pixel et \"blanc\". plus la\n",
    "# distance est basse, plus le pixel est proche de blanc. \n",
    "diff = np.max(diff, -1);\n",
    "print(diff.shape)"
   ]
  },
  {
   "cell_type": "code",
   "execution_count": null,
   "metadata": {},
   "outputs": [],
   "source": [
    "sind = np.argsort(diff.flatten())\n",
    "sind = sind[0:N]"
   ]
  },
  {
   "cell_type": "code",
   "execution_count": null,
   "metadata": {},
   "outputs": [],
   "source": [
    "# cette couleur est la couleur la plus brillante, et pas saturée\n",
    "couleur = np.mean(img.reshape(-1,3)[sind, :], 0);\n",
    "print(couleur)\n",
    "\n",
    "# nous voulons que R=G=B. donc trouvons un facteur d'echelle qui mettra\n",
    "# tous les canaux au meme niveau, disons G\n",
    "# facteur = squeeze(couleur(2) ./ couleur)';\n",
    "offset = couleur[1] - couleur"
   ]
  },
  {
   "cell_type": "code",
   "execution_count": null,
   "metadata": {},
   "outputs": [],
   "source": [
    "# appliquons ce facteur à l'image. \n",
    "imgWbWhite = img + offset.reshape((1,1,3))\n",
    "imgWbWhite = np.maximum(0, np.minimum(1, imgWbWhite))"
   ]
  },
  {
   "cell_type": "code",
   "execution_count": null,
   "metadata": {},
   "outputs": [],
   "source": [
    "# validons que la moyenne de l'image est effectivement neutre\n",
    "newMean = np.mean(imgWbWhite.reshape(-1,3)[sind, :], axis=0)\n",
    "assert np.all(np.abs(newMean - np.mean(newMean)) < 1e-10), 'error de moyenne'\n",
    "print('Moyenne de l''image: ')\n",
    "print(newMean)"
   ]
  },
  {
   "cell_type": "markdown",
   "metadata": {},
   "source": [
    "## Affichons les résultats des 3 algorithmes"
   ]
  },
  {
   "cell_type": "code",
   "execution_count": null,
   "metadata": {},
   "outputs": [],
   "source": [
    "fig, ax = plt.subplots(2, 2, figsize=(10,5), sharex=True, sharey=True)\n",
    "ax[0][0].imshow(img); ax[0][0].set_title('Image originale')\n",
    "ax[0][1].imshow(imgWbManu); ax[0][1].set_title('Image équilibrée manuellement');\n",
    "ax[1][0].imshow(imgWbGray); ax[1][0].set_title('Grey world');\n",
    "ax[1][1].imshow(imgWbWhite); ax[1][1].set_title('White world');"
   ]
  },
  {
   "cell_type": "code",
   "execution_count": null,
   "metadata": {},
   "outputs": [],
   "source": []
  }
 ],
 "metadata": {
  "kernelspec": {
   "display_name": "Python 3",
   "language": "python",
   "name": "python3"
  },
  "language_info": {
   "codemirror_mode": {
    "name": "ipython",
    "version": 3
   },
   "file_extension": ".py",
   "mimetype": "text/x-python",
   "name": "python",
   "nbconvert_exporter": "python",
   "pygments_lexer": "ipython3",
   "version": "3.5.2"
  }
 },
 "nbformat": 4,
 "nbformat_minor": 2
}
