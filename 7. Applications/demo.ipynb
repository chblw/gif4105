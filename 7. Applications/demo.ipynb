{
 "cells": [
  {
   "cell_type": "code",
   "execution_count": 2,
   "metadata": {},
   "outputs": [
    {
     "data": {
      "text/html": [
       "<style>.container { width:100% !important; }</style>"
      ],
      "text/plain": [
       "<IPython.core.display.HTML object>"
      ]
     },
     "metadata": {},
     "output_type": "display_data"
    }
   ],
   "source": [
    "# settings for display\n",
    "from IPython.core.display import display, HTML\n",
    "display(HTML(\"<style>.container { width:100% !important; }</style>\"))\n",
    "\n",
    "# turn off matplotlib figure axes, else we need to call axes('off') everytime\n",
    "import matplotlib as mpl\n",
    "import matplotlib.pyplot as plt\n",
    "plt.set_cmap('gray') \n",
    "# mpl.rc('axes.spines',top=False,bottom=False,left=False,right=False)\n",
    "# mpl.rc(('xtick','ytick'),color=(1,1,1,0))\n",
    "mpl.rc('font', size=20)\n",
    "\n",
    "import warnings\n",
    "warnings.filterwarnings(\"ignore\")\n",
    "\n",
    "# import necessarry libs\n",
    "from imageio import imread\n",
    "import numpy as np\n",
    "from skimage.color import rgb2gray\n",
    "from skimage.transform import resize\n",
    "from scipy.fftpack import dct"
   ]
  },
  {
   "cell_type": "code",
   "execution_count": 5,
   "metadata": {},
   "outputs": [
    {
     "data": {
      "text/plain": [
       "<matplotlib.image.AxesImage at 0x7f4dbbd8ce10>"
      ]
     },
     "execution_count": 5,
     "metadata": {},
     "output_type": "execute_result"
    },
    {
     "data": {
      "image/png": "[encoded data removed]",
      "text/plain": [
       "<Figure size 432x288 with 1 Axes>"
      ]
     },
     "metadata": {},
     "output_type": "display_data"
    }
   ],
   "source": [
    "# Hmm do not what is in this demo\n",
    "# A = dct(8,2);\n",
    "# A = permute(A, [1 2 4 3]);\n",
    "# A = reshape(A, 8, 8, []);\n",
    "\n",
    "# clims = [min(A(:)) max(A(:))];\n",
    "\n",
    "# % affichons les bases\n",
    "# figure(1); clf;\n",
    "# for i_b = 1:64\n",
    "#     subplot_tight(8,8,i_b);\n",
    "#     imagesc(A(:,:,i_b));\n",
    "#     axis image off;\n",
    "#     caxis(clims);\n",
    "# end\n",
    "\n",
    "# %%\n",
    "img = rgb2gray(imread('img.jpg')/255.0);\n",
    "block = img[0:7, 0:7];\n",
    "\n",
    "plt.imshow(block)\n",
    "\n",
    "# %%\n",
    "# % projeter le bloc sur la base DCT\n",
    "\n"
   ]
  },
  {
   "cell_type": "code",
   "execution_count": null,
   "metadata": {},
   "outputs": [],
   "source": []
  }
 ],
 "metadata": {
  "kernelspec": {
   "display_name": "Python 3",
   "language": "python",
   "name": "python3"
  },
  "language_info": {
   "codemirror_mode": {
    "name": "ipython",
    "version": 3
   },
   "file_extension": ".py",
   "mimetype": "text/x-python",
   "name": "python",
   "nbconvert_exporter": "python",
   "pygments_lexer": "ipython3",
   "version": "3.5.2"
  }
 },
 "nbformat": 4,
 "nbformat_minor": 2
}
