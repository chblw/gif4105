{
 "cells": [
  {
   "cell_type": "markdown",
   "metadata": {},
   "source": [
    "# Prenons une image, ré-ordonnons les pixels aléatoirement, et comparons les histogrammes!"
   ]
  },
  {
   "cell_type": "code",
   "execution_count": null,
   "metadata": {},
   "outputs": [],
   "source": [
    "# settings for display\n",
    "from IPython.core.display import display, HTML\n",
    "display(HTML(\"<style>.container { width:100% !important; }</style>\"))\n",
    "\n",
    "# set font\n",
    "import matplotlib as mpl\n",
    "import matplotlib.pyplot as plt\n",
    "mpl.rc('font', size=15)\n",
    "\n",
    "# import necessarry libs\n",
    "from imageio import imread\n",
    "import numpy as np"
   ]
  },
  {
   "cell_type": "code",
   "execution_count": null,
   "metadata": {},
   "outputs": [],
   "source": [
    "# permutation function\n",
    "array = np.arange(9).reshape((3, 3))\n",
    "print(array)\n",
    "print(np.random.permutation(array))"
   ]
  },
  {
   "cell_type": "code",
   "execution_count": null,
   "metadata": {},
   "outputs": [],
   "source": [
    "# image\n",
    "img = imread('img.jpg');\n",
    "\n",
    "# image permutée\n",
    "imgVec = img.reshape([-1, 3]);\n",
    "imgVec = np.random.permutation(imgVec);\n",
    "imgPerm = imgVec.reshape(img.shape);\n",
    "imgHist = np.histogram(img.flatten(), bins=256, range=(0,255))[0]  # returns: hist, bin_edges; we only choose hist\n",
    "imgPermHist = np.histogram(imgPerm.flatten(), bins=256, range=(0,255))[0]"
   ]
  },
  {
   "cell_type": "code",
   "execution_count": null,
   "metadata": {},
   "outputs": [],
   "source": [
    "# affichons les résultats\n",
    "%matplotlib notebook\n",
    "fig, ax = plt.subplots(2, 2, figsize=(10,5), num='histogrammes')\n",
    "ax[0][0].imshow(img); ax[0][0].axis('off'); ax[0][0].set_title('Image originale');\n",
    "ax[0][1].plot(imgHist); ax[0][1].grid(); ax[0][1].set_title('Hist originale');\n",
    "ax[1][0].imshow(imgPerm); ax[1][0].axis('off'); ax[1][0].set_title('Image permutée');\n",
    "ax[1][1].plot(imgPermHist); ax[1][1].grid(); ax[1][1].set_title('Hist permutée');\n",
    "plt.tight_layout()"
   ]
  },
  {
   "cell_type": "code",
   "execution_count": null,
   "metadata": {},
   "outputs": [],
   "source": []
  }
 ],
 "metadata": {
  "kernelspec": {
   "display_name": "Python 3",
   "language": "python",
   "name": "python3"
  },
  "language_info": {
   "codemirror_mode": {
    "name": "ipython",
    "version": 3
   },
   "file_extension": ".py",
   "mimetype": "text/x-python",
   "name": "python",
   "nbconvert_exporter": "python",
   "pygments_lexer": "ipython3",
   "version": "3.5.2"
  }
 },
 "nbformat": 4,
 "nbformat_minor": 2
}
