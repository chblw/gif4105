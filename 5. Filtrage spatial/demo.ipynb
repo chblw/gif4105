{
 "cells": [
  {
   "cell_type": "markdown",
   "metadata": {},
   "source": [
    "# Appliquons quelques filtres simples"
   ]
  },
  {
   "cell_type": "code",
   "execution_count": null,
   "metadata": {},
   "outputs": [],
   "source": [
    "# settings for display\n",
    "from IPython.core.display import display, HTML\n",
    "display(HTML(\"<style>.container { width:100% !important; }</style>\"))\n",
    "\n",
    "# turn off matplotlib figure axes, else we need to call axes('off') everytime\n",
    "import matplotlib as mpl\n",
    "from matplotlib.pyplot import imshow\n",
    "import matplotlib.pyplot as plt\n",
    "plt.set_cmap('gray') \n",
    "mpl.rc('axes.spines',top=False,bottom=False,left=False,right=False)\n",
    "mpl.rc(('xtick','ytick'),color=(1,1,1,0))\n",
    "mpl.rc('font', size=20)\n",
    "\n",
    "# import necessarry libs\n",
    "from imageio import imread\n",
    "import numpy as np\n",
    "from scipy.signal import convolve2d as conv2\n",
    "from skimage.color import rgb2gray\n",
    "from skimage.transform import resize\n",
    "\n",
    "import warnings\n",
    "warnings.filterwarnings(\"ignore\")"
   ]
  },
  {
   "cell_type": "code",
   "execution_count": null,
   "metadata": {},
   "outputs": [],
   "source": [
    "img = imread('zebre.jpg').astype('float')/255\n",
    "\n",
    "# commençons simplement... \n",
    "f = np.asarray([[0.0, 0, 0], [0, 1, 0], [0, 0, 0]]).astype(float)\n",
    "img1 = conv2(img, f, 'same')"
   ]
  },
  {
   "cell_type": "code",
   "execution_count": null,
   "metadata": {
    "scrolled": false
   },
   "outputs": [],
   "source": [
    "# plot the images and filtrée\n",
    "%matplotlib notebook\n",
    "fig = plt.figure(figsize=(10,5), num='Image filtrée')\n",
    "\n",
    "ax1 = fig.add_subplot(1, 3, 1)\n",
    "ax1.imshow(img); ax1.set_title('Image originale')\n",
    "ax2 = fig.add_subplot(1, 3, 2, sharex = ax1, sharey = ax1)\n",
    "ax2.imshow(img1); ax2.set_title('Image filtrée');\n",
    "ax3 = fig.add_subplot(1, 3, 3)\n",
    "fmap = ax3.imshow(f, cmap='gray'); ax3.set_title('Filtre');\n",
    "fig.colorbar(fmap, ax=ax3,fraction=0.046, pad=0.04)\n",
    "plt.tight_layout()"
   ]
  },
  {
   "cell_type": "code",
   "execution_count": null,
   "metadata": {},
   "outputs": [],
   "source": [
    "# filtre en boîte\n",
    "f = np.ones((31,31));\n",
    "f = f / np.sum(f);\n",
    "img2 = conv2(img, f, 'same');\n",
    "\n",
    "fig = plt.figure(figsize=(10,5), num='boîte')\n",
    "ax1 = fig.add_subplot(1, 3, 1)\n",
    "ax1.imshow(img); ax1.set_title('Image originale')\n",
    "ax2 = fig.add_subplot(1, 3, 2, sharex = ax1, sharey = ax1)\n",
    "ax2.imshow(img2); ax2.set_title('Image filtrée');\n",
    "ax3 = fig.add_subplot(1, 3, 3)\n",
    "fmap = ax3.imshow(f,cmap='gray'); ax3.set_title('Filtre');\n",
    "fig.colorbar(fmap, ax=ax3,fraction=0.046, pad=0.04)\n",
    "plt.tight_layout()"
   ]
  },
  {
   "cell_type": "code",
   "execution_count": null,
   "metadata": {
    "scrolled": false
   },
   "outputs": [],
   "source": [
    "# sobel\n",
    "# la fonction fspecial implémente plusieurs filtres pour vous. Jetez-y un\n",
    "# coup d'oeil!\n",
    "f = np.array([[ 1, 2, 1],\n",
    "              [ 0, 0, 0],\n",
    "              [-1,-2,-1]])\n",
    "img3 = conv2(img, f, 'same');\n",
    "\n",
    "fig = plt.figure(figsize=(10,5), num='Image sobelH')\n",
    "ax1 = fig.add_subplot(1, 3, 1)\n",
    "ax1.imshow(img); ax1.set_title('Image originale')\n",
    "ax2 = fig.add_subplot(1, 3, 2, sharex = ax1, sharey = ax1)\n",
    "ax2.imshow(img3); ax2.set_title('Image filtrée');\n",
    "ax3 = fig.add_subplot(1, 3, 3)\n",
    "fmap = ax3.imshow(f); ax3.set_title('Filtre');\n",
    "fig.colorbar(fmap, ax=ax3,fraction=0.046, pad=0.04)\n",
    "plt.tight_layout()"
   ]
  },
  {
   "cell_type": "code",
   "execution_count": null,
   "metadata": {
    "scrolled": false
   },
   "outputs": [],
   "source": [
    "# Testons les propriétés des filtres\n",
    "f1 = np.array([[ 1, 2, 1],\n",
    "              [ 0, 0, 0],\n",
    "              [-1,-2,-1]])\n",
    "f2 = f1.T\n",
    "\n",
    "# filtre(f1+f2) = filtre(f1)+filtre(f2)\n",
    "filtre_apres_addition = conv2(img, f1+f2)\n",
    "addition_apres_filtre = conv2(img, f1) + conv2(img, f2)\n",
    "fig = plt.figure(figsize=(5,5), num='Testons les propriétés des filtres')\n",
    "img_diff = np.abs(filtre_apres_addition-addition_apres_filtre)\n",
    "fmap = plt.imshow(img_diff*100, vmin=0, vmax=1); plt.title('Différence (x100)');\n",
    "plt.colorbar(fmap ,fraction=0.046, pad=0.04);\n",
    "print(img_diff.max())"
   ]
  },
  {
   "cell_type": "code",
   "execution_count": null,
   "metadata": {},
   "outputs": [],
   "source": [
    "# img * f vs f * img\n",
    "# ici, il est important de calculer la convolution _complète_... plus de\n",
    "# détails là-dessus au prochain cours!\n",
    "fig = plt.figure(figsize=(5,5), num='img * f vs f * img')\n",
    "print(conv2(f1, img, mode='valid').shape) # 'full' is too slow output shape->[538x538] \n",
    "\n",
    "img_diff = np.abs(conv2(img, f1, mode='valid') - conv2(f1, img, mode='valid'))\n",
    "fmap = plt.imshow(img_diff*100); plt.title('Différence (x100)');\n",
    "plt.colorbar(fmap ,fraction=0.046, pad=0.04);"
   ]
  },
  {
   "cell_type": "markdown",
   "metadata": {},
   "source": [
    "# Demonstration de la séparabilité du filtre gaussien"
   ]
  },
  {
   "cell_type": "code",
   "execution_count": null,
   "metadata": {},
   "outputs": [],
   "source": [
    "im = imread('img.jpg')/255.0\n",
    "im = rgb2gray(im)\n",
    "\n",
    "# pour que la différence de temps soit observable, \n",
    "# il faut des images assez grosses\n",
    "# im = resize(im, [6000 4000]);"
   ]
  },
  {
   "cell_type": "code",
   "execution_count": null,
   "metadata": {},
   "outputs": [],
   "source": [
    "# define gaussian filter\n",
    "def f_gauss(size, sigma):\n",
    "    # gaussian filter\n",
    "    x, y = np.mgrid[-size[0]//2 + 1:size[0]//2 + 1, -size[1]//2 + 1:size[1]//2 + 1]\n",
    "    g = 1/(np.sqrt(2*np.pi*sigma))*np.exp(-((x**2 + y**2)/(2.0*sigma**2)))\n",
    "    return g/g.sum()"
   ]
  },
  {
   "cell_type": "code",
   "execution_count": null,
   "metadata": {
    "scrolled": false
   },
   "outputs": [],
   "source": [
    "# filtre 2-D\n",
    "f2d = f_gauss([25,25], 4);\n",
    "\n",
    "# filtre 1-D\n",
    "f1dv = f_gauss([1, 25], 4);\n",
    "\n",
    "# filtrage avec le filtre 2D\n",
    "import time\n",
    "tic=time.time(); \n",
    "im2d = conv2(im, f2d, 'same'); \n",
    "print(time.time()-tic)\n",
    "\n",
    "# filtrage avec le filtre 1D, et sa transposée\n",
    "tic=time.time(); \n",
    "im1d = conv2(conv2(im, f1dv, 'same'), f1dv.T, 'same'); \n",
    "print(time.time()-tic);"
   ]
  },
  {
   "cell_type": "code",
   "execution_count": null,
   "metadata": {},
   "outputs": [],
   "source": [
    "# plot\n",
    "fig = plt.figure(figsize=(10,5), num='Gaussian')\n",
    "ax1 = fig.add_subplot(1, 3, 1)\n",
    "ax1.imshow(im2d); ax1.set_title('Filtre 2-D')\n",
    "ax2 = fig.add_subplot(1, 3, 2, sharex = ax1, sharey = ax1)\n",
    "ax2.imshow(im1d); ax2.set_title('2 filtres 1-D');\n",
    "ax3 = fig.add_subplot(1, 3, 3, sharex = ax1, sharey = ax1)\n",
    "fmap = ax3.imshow(np.abs(im1d-im2d)*100, vmin=0, vmax=1); ax3.set_title('100x difference');\n",
    "fig.colorbar(fmap, ax=ax3,fraction=0.046, pad=0.04)\n",
    "plt.tight_layout()"
   ]
  },
  {
   "cell_type": "code",
   "execution_count": null,
   "metadata": {},
   "outputs": [],
   "source": []
  }
 ],
 "metadata": {
  "kernelspec": {
   "display_name": "Python 3",
   "language": "python",
   "name": "python3"
  },
  "language_info": {
   "codemirror_mode": {
    "name": "ipython",
    "version": 3
   },
   "file_extension": ".py",
   "mimetype": "text/x-python",
   "name": "python",
   "nbconvert_exporter": "python",
   "pygments_lexer": "ipython3",
   "version": "3.5.2"
  }
 },
 "nbformat": 4,
 "nbformat_minor": 2
}
