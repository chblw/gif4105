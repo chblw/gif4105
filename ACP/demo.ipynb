{
 "cells": [
  {
   "cell_type": "markdown",
   "metadata": {},
   "source": [
    "# données aléatoires"
   ]
  },
  {
   "cell_type": "code",
   "execution_count": null,
   "metadata": {},
   "outputs": [],
   "source": [
    "# settings for display\n",
    "from IPython.core.display import display, HTML\n",
    "display(HTML(\"<style>.container { width:100% !important; }</style>\"))\n",
    "\n",
    "# turn off matplotlib figure axes, else we need to call axes('off') everytime\n",
    "import matplotlib as mpl\n",
    "import matplotlib.pyplot as plt\n",
    "from mpl_toolkits.mplot3d import Axes3D\n",
    "plt.set_cmap('gray') \n",
    "# mpl.rc('axes.spines',top=False,bottom=False,left=False,right=False)\n",
    "# mpl.rc(('xtick','ytick'),color=(1,1,1,0))\n",
    "mpl.rc('font', size=20)\n",
    "\n",
    "import warnings\n",
    "warnings.filterwarnings(\"ignore\")\n",
    "\n",
    "# import necessarry libs\n",
    "import numpy as np\n",
    "from numpy.linalg import eig\n",
    "from numpy.random import rand\n",
    "from numpy.random import multivariate_normal as mvnrnd"
   ]
  },
  {
   "cell_type": "code",
   "execution_count": null,
   "metadata": {},
   "outputs": [],
   "source": [
    "# uniformes en 3-D\n",
    "x = np.random.rand(3, 100)\n",
    "# gaussiennes\n",
    "# x = mvnrnd(np.zeros(3), np.ones([3,3]), 100).T"
   ]
  },
  {
   "cell_type": "code",
   "execution_count": null,
   "metadata": {},
   "outputs": [],
   "source": [
    "# soustrayons la moyenne\n",
    "M = np.mean(x,1)\n",
    "x2 = x-np.repeat(M[:,np.newaxis], x.shape[1], axis=1)"
   ]
  },
  {
   "cell_type": "markdown",
   "metadata": {},
   "source": [
    "### les colonnes de V correspondent aux vecteurs propres de la matrice de covariance, soit les directions de variation principales\n",
    "### les éléments dans la D correspondent aux valeurs propres de la matrice de covariance, soit la \"quantité\" de variation dans la direction correspondante\n",
    "```python\n",
    "[D, V] = eig(M)\n",
    "```"
   ]
  },
  {
   "cell_type": "code",
   "execution_count": null,
   "metadata": {},
   "outputs": [],
   "source": [
    "# matrice de covariance\n",
    "covariance=np.matmul(x2, x2.T)\n",
    "[the_lambda, V] = eig(covariance)"
   ]
  },
  {
   "cell_type": "markdown",
   "metadata": {},
   "source": [
    "## affichons le % de variance total pour chaque valeur propre"
   ]
  },
  {
   "cell_type": "code",
   "execution_count": null,
   "metadata": {
    "scrolled": false
   },
   "outputs": [],
   "source": [
    "# plot\n",
    "%matplotlib notebook\n",
    "fig = plt.figure(figsize=(10,5), num='ACP 2D')\n",
    "\n",
    "slambda = sorted(the_lambda, reverse=True)  # descend\n",
    "ax1 = fig.add_subplot(1, 1, 1)\n",
    "ax1.plot(np.cumsum(slambda)/sum(slambda)*100, '-o', linewidth=5,markersize=10)\n",
    "ax1.set_ylabel('% variance');\n",
    "ax1.set_xlabel('Nombre de vecteurs');\n",
    "ax1.set_ylim(0, 100)\n",
    "ax1.grid()\n",
    "plt.tight_layout()"
   ]
  },
  {
   "cell_type": "markdown",
   "metadata": {},
   "source": [
    "## affichons les données et les vecteurs propres"
   ]
  },
  {
   "cell_type": "code",
   "execution_count": null,
   "metadata": {},
   "outputs": [],
   "source": [
    "# normalisons les lambdas (pour l'affichage)\n",
    "lambda1 = the_lambda/the_lambda.max()\n",
    "%matplotlib notebook\n",
    "fig = plt.figure(figsize=(15,5), num='ACP 3D')\n",
    "ax2 = fig.add_subplot(1, 1, 1, projection='3d')\n",
    "ax2.plot(x[0,:], x[1,:], x[2,:], 'o')\n",
    "for i_vec in reversed(range(len(lambda1))):\n",
    "    ax2.plot([M[0], M[0]+lambda1[i_vec]*V[0,i_vec]], \n",
    "             [M[1], M[1]+lambda1[i_vec]*V[1,i_vec]], \n",
    "             [M[2], M[2]+lambda1[i_vec]*V[2,i_vec]], \n",
    "             '-', linewidth=5, alpha=0.5)\n",
    "ax2.legend(['données', '1', '2', '3'], bbox_to_anchor=(1.3, 1), ncol=1);\n",
    "ax2.axis('equal')\n",
    "plt.tight_layout()"
   ]
  },
  {
   "cell_type": "code",
   "execution_count": null,
   "metadata": {},
   "outputs": [],
   "source": []
  }
 ],
 "metadata": {
  "kernelspec": {
   "display_name": "Python 3",
   "language": "python",
   "name": "python3"
  },
  "language_info": {
   "codemirror_mode": {
    "name": "ipython",
    "version": 3
   },
   "file_extension": ".py",
   "mimetype": "text/x-python",
   "name": "python",
   "nbconvert_exporter": "python",
   "pygments_lexer": "ipython3",
   "version": "3.5.2"
  }
 },
 "nbformat": 4,
 "nbformat_minor": 2
}
